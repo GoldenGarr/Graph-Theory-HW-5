{
 "cells": [
  {
   "cell_type": "markdown",
   "id": "196f713e",
   "metadata": {},
   "source": [
    "_I am relatively new to the markdown syntax, so please be patient_"
   ]
  },
  {
   "cell_type": "markdown",
   "id": "d71bd31f",
   "metadata": {},
   "source": [
    "Theorem 1 (Triangle Ineqality): \n",
    ">For any connected graph G = ⟨V , E⟩:\n",
    "∀x, y, z ∈ V : dist(x, y) + dist(y, z) ≥ dist(x, z).\n",
    "\n",
    "<br>\n",
    "Proposition: **∀x, y, z ∈ V : *dist*(x, y) + *dis*t(y, z) ≥ *dist*(x, z).** <br><br>\n",
    "Proof (by contradiction): **Suppose *dist*(x,y) + *dist*(y,z) < *dist*(x,z).** <br><br>\n",
    "However, *dist*(x,z) is the length of the shortest path (by definition). <br><br>\n",
    "Therefore, *dist*(x,y) + *dist*(y,z) cannot be less than *dist*(x,z), since x...y + y..z is a walk x..z .<br><br>\n",
    "Thus *dist*(x,y) + *dist*(y,z) ≥ *dist(x,z). <br><br>\n",
    "Q.E.D."
   ]
  },
  {
   "cell_type": "markdown",
   "id": "17592f1e",
   "metadata": {},
   "source": [
    "Theorem 2 (Tree):\n",
    "> A connected graph G = ⟨V , E⟩ is a tree (i.e. acyclic graph) iff |E| = |V | − 1.\n",
    "\n",
    "<br>\n",
    "\n",
    "Proposition: ** A connected graph G = ⟨V , E⟩ is a tree (i.e. acyclic graph) <=> |E| = |V| − 1. ** <br><br>\n",
    "Proof (by contraposition): <br><br>\n",
    "<=: **Suppose the connected graph has a cycle.** <br><br>\n",
    "&nbsp;&nbsp;&nbsp; Therefore, _$\\exists$v $\\in$ : $\\exists$U->U (a cycle)._ <br><br> \n",
    "&nbsp;&nbsp;&nbsp; The mentioned cycle _U-e1-V1-e2-...-ek-U_ contains k edges and k vertices (U included). <br><br>\n",
    "&nbsp;&nbsp;&nbsp; Thus there are at least n-k edges to be added, since there are n-k vertices _'uncovered'_ and the graph is connected. <br><br>\n",
    "&nbsp;&nbsp;&nbsp; Then there will be at least n-k + k = n edges. <br><br>\n",
    "&nbsp;&nbsp;&nbsp; Therefore, |E| != |V| - 1. <br><br><br>\n",
    "\n",
    "=>: **Suppose |E| != |V| - 1 in a connected graph.** <br><br>\n",
    "Case 1: |E| < |V| - 1. <br><br>\n",
    "&nbsp;&nbsp;&nbsp; Then the graph is not connected, since there will always be an isolated vertex. <br><br>\n",
    "Case 2: |E| > |V| - 1 = n - 1. <br><br>\n",
    "&nbsp;&nbsp;&nbsp; Let's take a look at the 'n-th edge' en = {V, U}. <br><br>\n",
    "&nbsp;&nbsp;&nbsp; The graph is connected, so $\\exists$U->V. <br><br>\n",
    "&nbsp;&nbsp;&nbsp; Therefore, there is a closed path U->V + en, which is a cycle.\n",
    "\n",
    "<br><br> Q.E.D."
   ]
  },
  {
   "cell_type": "markdown",
   "id": "ca256834",
   "metadata": {},
   "source": [
    "Theorem 3 (Whitney). \n",
    ">For any graph G: κ(G) ≤ λ(G) ≤ δ (G).\n",
    "<br><br>\n",
    "\n",
    "Proposition: **For any graph G: κ(G) ≤ λ(G) ≤ δ(G).** <br><br>\n",
    "Proof (direct): <br><br>\n",
    "λ(G) ≤ δ(G): <br><br>\n",
    "&nbsp;&nbsp;&nbsp; At worst case, we will have to isolate the vertice with min. degree = δ(G). <br><br>\n",
    "&nbsp;&nbsp;&nbsp; Therefore, λ(G) ≤ δ(G). <br><br>\n",
    "κ(G) ≤ λ(G): <br><br>\n",
    "&nbsp;&nbsp;&nbsp; At worst case, we will be removing one of the vertices from every cutting edge. <br><br>\n",
    "&nbsp;&nbsp;&nbsp; Thus κ(G) ≤ λ(G). <br><br>\n",
    "Q.E.D."
   ]
  },
  {
   "cell_type": "markdown",
   "id": "78911f0b",
   "metadata": {},
   "source": [
    "Theorem 4 (Chartrand).\n",
    "> For a connected graph G: if δ(G) ≥ ⌊|V |/2⌋, then λ(G) = δ(G).\n",
    "\n",
    "Proposition: For a connected graph G: if δ(G) ≥ ⌊|V |/2⌋, then λ(G) = δ(G). <br><br>\n",
    "\n",
    "<!-- Proof (By contradiction): <br><br>\n",
    "Suppose λ(G) != δ(G). <br><br>\n",
    "Then λ(G) < δ(G), according to Whitney's theorem <br><br>\n",
    " -->\n",
    " Proof (by induction):\n",
    " <br><br>\n",
    " &nbsp; *Case 1 (|V| is even):* <br><br>\n",
    " &nbsp;&nbsp;&nbsp; n = 1: + <br><br>\n",
    " &nbsp;&nbsp;&nbsp; n = 2: + <br><br>\n",
    " &nbsp;&nbsp;&nbsp; n = 3: + <br><br>\n",
    " &nbsp;&nbsp;&nbsp;  Suppose for |V| = n the proposition is true: <br><br>\n",
    " &nbsp;&nbsp;&nbsp;&nbsp; Then we will have to prove the proposition for |V| = n + 1. <br><br>\n",
    " &nbsp;&nbsp;&nbsp;&nbsp; \n",
    " δ(G) >= ⌊(|V| + 1)/2⌋ >= (|V| / 2). <br><br>\n",
    "  &nbsp;&nbsp;&nbsp;&nbsp;The 'n + 1'th' vertex will not reduce the λ(G), since it has at least |V| / 2 incident edges. <br><br>\n",
    "  &nbsp;&nbsp;&nbsp;&nbsp;Thus, λ(G) = δ(G). <br><br>\n",
    "\n",
    " &nbsp; *Case 2 (|V| is odd):* <br><br>\n",
    " &nbsp;&nbsp;&nbsp;&nbsp; <br><br>\n",
    " Let's say that |V| = \n",
    " δ(G) >= ⌊(|V| + 1)/2⌋ >= ⌊|V| / 2⌋ + 1. <br><br>\n",
    " Analogically, the 'n + 1'th' vertex will not reduce the λ(G)\n",
    " \n",
    " <br><br>\n",
    " Q.E.D."
   ]
  },
  {
   "cell_type": "code",
   "execution_count": null,
   "id": "62e70767",
   "metadata": {},
   "outputs": [],
   "source": []
  }
 ],
 "metadata": {
  "kernelspec": {
   "display_name": "Python 3 (ipykernel)",
   "language": "python",
   "name": "python3"
  },
  "language_info": {
   "codemirror_mode": {
    "name": "ipython",
    "version": 3
   },
   "file_extension": ".py",
   "mimetype": "text/x-python",
   "name": "python",
   "nbconvert_exporter": "python",
   "pygments_lexer": "ipython3",
   "version": "3.9.7"
  }
 },
 "nbformat": 4,
 "nbformat_minor": 5
}
